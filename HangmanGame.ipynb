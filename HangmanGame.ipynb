{
  "nbformat": 4,
  "nbformat_minor": 0,
  "metadata": {
    "colab": {
      "provenance": [],
      "authorship_tag": "ABX9TyOvbsdHIh7Vi5iqWkZ6pp31",
      "include_colab_link": true
    },
    "kernelspec": {
      "name": "python3",
      "display_name": "Python 3"
    },
    "language_info": {
      "name": "python"
    }
  },
  "cells": [
    {
      "cell_type": "markdown",
      "metadata": {
        "id": "view-in-github",
        "colab_type": "text"
      },
      "source": [
        "<a href=\"https://colab.research.google.com/github/Yudesh-thapa/Hangman-Game.ipynb/blob/main/HangmanGame.ipynb\" target=\"_parent\"><img src=\"https://colab.research.google.com/assets/colab-badge.svg\" alt=\"Open In Colab\"/></a>"
      ]
    },
    {
      "cell_type": "code",
      "execution_count": null,
      "metadata": {
        "colab": {
          "base_uri": "https://localhost:8080/"
        },
        "id": "teU4H434u-F0",
        "outputId": "b0add2a7-d95d-4855-beb6-0eeda7f900ae"
      },
      "outputs": [
        {
          "output_type": "stream",
          "name": "stdout",
          "text": [
            "\n",
            ".__\n",
            "|  |__ _____    ____    ____   _____ _____    ____\n",
            "|  |  \\__  \\  /    \\  / ___\\ /     \\__  \\  /    |   Y  \\/ __ \\|   |  \\/ /_/  >  Y Y  \\/ __ \\|   |  |___|  (____  /___|  /\\___  /|__|_|  (____  /___|  /\n",
            "     \\/     \\/     \\//_____/       \\/     \\/     \\/\n",
            "\n",
            "\n",
            "\n",
            "_ _ _ _ _ _ _ _ _ \n",
            "\n"
          ]
        }
      ],
      "source": [
        "# Your Code\n",
        "import random\n",
        "word_list =[\"prepinsta\" , \"prime\" , \"yudesh\"]\n",
        "logo ='''\n",
        ".__\n",
        "|  |__ _____    ____    ____   _____ _____    ____\n",
        "|  |  \\\\__  \\  /    \\  / ___\\ /     \\\\__  \\  /    \\\n",
        "|   Y  \\/ __ \\|   |  \\/ /_/  >  Y Y  \\/ __ \\|   |  \\\n",
        "|___|  (____  /___|  /\\___  /|__|_|  (____  /___|  /\n",
        "     \\/     \\/     \\//_____/       \\/     \\/     \\/\n",
        "\n",
        "\n",
        "'''\n",
        "chosen_word = random.choice(word_list)\n",
        "lives = 6\n",
        "display = []\n",
        "\n",
        "for letter in chosen_word:\n",
        "    display.append(\"_\")\n",
        "\n",
        "print(logo)\n",
        "\n",
        "while True:\n",
        "  print(* display , \"\\n\")\n",
        "  guess_word = input(\"guess a letter : \").lower()\n",
        "\n",
        "\n",
        "  if guess_word in chosen_word:\n",
        "    for position in range(len(chosen_word)):\n",
        "      if  guess_word == chosen_word[position]:\n",
        "        display[position] = chosen_word[position]\n",
        "\n",
        "\n",
        "    if \"_\" not in display:\n",
        "      print(\"good you won the game\")\n",
        "      break\n",
        "\n",
        "  else:\n",
        "    print(\"your guess is wrong\")\n",
        "    lives -=1\n",
        "    print(f\"you have \" + str(lives) + \" guess left\")\n",
        "\n",
        "    if lives == 0:\n",
        "      print(\"you lose.\")\n",
        "      break\n",
        "\n",
        "print(f\"the answer was : {chosen_word}\")"
      ]
    }
  ]
}